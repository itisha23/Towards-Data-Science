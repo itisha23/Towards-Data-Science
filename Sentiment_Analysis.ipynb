{
 "cells": [
  {
   "cell_type": "code",
   "execution_count": null,
   "metadata": {},
   "outputs": [],
   "source": [
    "#PACKAGES: Tweepy, nltk,textBlob"
   ]
  },
  {
   "cell_type": "code",
   "execution_count": 5,
   "metadata": {},
   "outputs": [],
   "source": [
    "import tweepy\n",
    "from textblob import TextBlob"
   ]
  },
  {
   "cell_type": "code",
   "execution_count": null,
   "metadata": {},
   "outputs": [],
   "source": [
    "#written from twitter developer app"
   ]
  },
  {
   "cell_type": "code",
   "execution_count": 10,
   "metadata": {},
   "outputs": [],
   "source": [
    "consumer_key = 'Y7iN1HB6yGzR7UE3vr4fS2Vbf'\n",
    "consumer_secret = 'hwZmrbSm5NxrUyynbkvZhZJTqYPLAJ4x85UtNFNmoQOEJzHjQ1'\n",
    "access_token = '2570295319-0oqWmJXiOy0LHoByufgAUyn8X2eyYLsFlCNcLhV'\n",
    "access_token_secret = 'TdQNySL1Y52dxmn3o3v3T9z0VIYhIH8UqUzTsixhy0MNX'\n",
    "\n",
    "auth = tweepy.OAuthHandler(consumer_key, consumer_secret)\n",
    "auth.set_access_token(access_token,access_token_secret)"
   ]
  },
  {
   "cell_type": "code",
   "execution_count": 12,
   "metadata": {},
   "outputs": [],
   "source": [
    "api = tweepy.API(auth)"
   ]
  },
  {
   "cell_type": "code",
   "execution_count": 13,
   "metadata": {},
   "outputs": [],
   "source": [
    "public_tweets = api.search('Trump')"
   ]
  },
  {
   "cell_type": "code",
   "execution_count": 17,
   "metadata": {},
   "outputs": [
    {
     "name": "stdout",
     "output_type": "stream",
     "text": [
      "RT @ACLU: VICTORY: The Trump administration tried to block parents it had separated from their children from coming back to the US, but a j…\n",
      "0.0\n",
      "RT @windthin: This thread began documenting the Trump regime's terrible response efforts for natural disasters, but has grown to include cl…\n",
      "-0.45\n",
      "@total_janarchy @TheTweetwit @nutmom123 Looks like the NYC Alfred E Smith dinner where high end businessmen ignored… https://t.co/xE8ou6eV7J\n",
      "0.16\n",
      "RT @maggieNYT: Here was our first story months back on Trump offering a pardon to McAleenan if he closed the border.  https://t.co/rcxD27XI…\n",
      "0.049999999999999996\n",
      "RT @JoseCuelloB: Algunas “periodistas” colombianas criticando a Ivanka Trump. Incluso, su manera de vestir.\n",
      "¿Soy el único que piensa que es…\n",
      "0.0\n",
      "I just- I just can’t. This is real. What the fuck. https://t.co/AhNjE5gS5n\n",
      "-0.1\n",
      "RT @Cernovich: You don’t like Trump. Fine. I don’t care. \n",
      "\n",
      "But if you’re honest, have you reconciled all of the doomsday scenarios that you…\n",
      "0.5083333333333333\n",
      "RT @kimguilfoyle: Ivanka Trump embraces Venezuela migrants as US boosts aid https://t.co/JrrlpUPnF5\n",
      "0.0\n",
      "RT @hardball: \"We've seen the president spend precious time trying to re-litigate this relatively silly matter.\"\n",
      "\n",
      "@JonLemire on Trump prese…\n",
      "0.0\n",
      "RT @Education4Libs: If you didn’t know by now, President Trump &amp; Q are SAVING HUMANITY.\n",
      "\n",
      "Those who have been paying attention or have done…\n",
      "0.0\n",
      "RT @RealCandaceO: Please stop telling black people what we are “targeted by” to satisfy your “white savior” complex. \n",
      "\n",
      "The fact that you ca…\n",
      "-0.15555555555555556\n",
      "RT @MSNBC: “Kelly Anne Conway long ago introduced us to 'alternate facts.' This seems to be alternate maps.” - Annie Karni of the New York…\n",
      "0.021590909090909088\n",
      "RT @AngieMarconii: Nadie: \n",
      "Absolutamente nadie: \n",
      "Ni la ONU:\n",
      " \n",
      "Una nena de 6 años a trump: Eres una desgracia para el mundo https://t.co/fPU…\n",
      "0.0\n",
      "RT @AnthemRespect: @w_terrence @DebraMessing If Trump was a racist he would have run as a Democrat.\n",
      "0.0\n",
      "@UnitedHypocrisy @SilERabbit @DebraMessing She went after Trump supporters, of which lotsa of them ain’t white! Lol… https://t.co/jB1wOma2u8\n",
      "0.0\n"
     ]
    }
   ],
   "source": [
    "for tweet in public_tweets:\n",
    "    print (tweet.text)\n",
    "    analysis = TextBlob(tweet.text)\n",
    "    print (analysis.polarity)\n",
    "    \n",
    "#polarity measures how positive or negative the text is"
   ]
  },
  {
   "cell_type": "code",
   "execution_count": null,
   "metadata": {},
   "outputs": [],
   "source": []
  }
 ],
 "metadata": {
  "kernelspec": {
   "display_name": "Python 3",
   "language": "python",
   "name": "python3"
  },
  "language_info": {
   "codemirror_mode": {
    "name": "ipython",
    "version": 3
   },
   "file_extension": ".py",
   "mimetype": "text/x-python",
   "name": "python",
   "nbconvert_exporter": "python",
   "pygments_lexer": "ipython3",
   "version": "3.7.3"
  }
 },
 "nbformat": 4,
 "nbformat_minor": 2
}
